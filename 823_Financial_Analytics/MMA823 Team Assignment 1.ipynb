{
 "cells": [
  {
   "cell_type": "code",
   "execution_count": 1,
   "id": "106c8072",
   "metadata": {},
   "outputs": [
    {
     "name": "stdout",
     "output_type": "stream",
     "text": [
      "2021-09-12 09:53:27.044933\n"
     ]
    }
   ],
   "source": [
    "import datetime\n",
    "print(datetime.datetime.now())"
   ]
  },
  {
   "cell_type": "code",
   "execution_count": 2,
   "id": "135d8f7b",
   "metadata": {},
   "outputs": [],
   "source": [
    "import warnings\n",
    "warnings.filterwarnings(\"ignore\", category=DeprecationWarning)\n",
    "warnings.filterwarnings(\"ignore\", category=FutureWarning)"
   ]
  },
  {
   "cell_type": "code",
   "execution_count": 3,
   "id": "dc5d1393",
   "metadata": {},
   "outputs": [],
   "source": [
    "import pandas as pd\n",
    "import numpy as np\n",
    "\n",
    "import matplotlib.pyplot as plt\n",
    "from mpl_toolkits.mplot3d import Axes3D\n",
    "import seaborn as sns \n",
    "\n",
    "import itertools\n",
    "\n",
    "import scipy\n",
    "\n",
    "from IPython.core.interactiveshell import InteractiveShell\n",
    "InteractiveShell.ast_node_interactivity = \"all\""
   ]
  },
  {
   "cell_type": "code",
   "execution_count": 4,
   "id": "b862ecf0",
   "metadata": {},
   "outputs": [
    {
     "name": "stdout",
     "output_type": "stream",
     "text": [
      "<class 'pandas.core.frame.DataFrame'>\n",
      "RangeIndex: 92872 entries, 0 to 92871\n",
      "Data columns (total 13 columns):\n",
      " #   Column              Non-Null Count  Dtype  \n",
      "---  ------              --------------  -----  \n",
      " 0   EPS                 92867 non-null  float64\n",
      " 1   Liquidity           92625 non-null  float64\n",
      " 2   Profitability       92625 non-null  float64\n",
      " 3   Productivity        92625 non-null  float64\n",
      " 4   Leverage Ratio      92846 non-null  float64\n",
      " 5   Asset Turnover      92625 non-null  float64\n",
      " 6   Operational Margin  87315 non-null  float64\n",
      " 7   Return on Equity    92864 non-null  float64\n",
      " 8   Market Book Ratio   92815 non-null  float64\n",
      " 9   Assets Growth       86171 non-null  float64\n",
      " 10  Sales Growth        86171 non-null  float64\n",
      " 11  Employee Growth     85862 non-null  float64\n",
      " 12  BK                  92872 non-null  int64  \n",
      "dtypes: float64(12), int64(1)\n",
      "memory usage: 9.2 MB\n",
      "<class 'pandas.core.frame.DataFrame'>\n",
      "Int64Index: 81204 entries, 1 to 92871\n",
      "Data columns (total 13 columns):\n",
      " #   Column              Non-Null Count  Dtype  \n",
      "---  ------              --------------  -----  \n",
      " 0   EPS                 81204 non-null  float64\n",
      " 1   Liquidity           81204 non-null  float64\n",
      " 2   Profitability       81204 non-null  float64\n",
      " 3   Productivity        81204 non-null  float64\n",
      " 4   Leverage Ratio      81204 non-null  float64\n",
      " 5   Asset Turnover      81204 non-null  float64\n",
      " 6   Operational Margin  81204 non-null  float64\n",
      " 7   Return on Equity    81204 non-null  float64\n",
      " 8   Market Book Ratio   81204 non-null  float64\n",
      " 9   Assets Growth       81204 non-null  float64\n",
      " 10  Sales Growth        81204 non-null  float64\n",
      " 11  Employee Growth     81204 non-null  float64\n",
      " 12  BK                  81204 non-null  int64  \n",
      "dtypes: float64(12), int64(1)\n",
      "memory usage: 8.7 MB\n"
     ]
    },
    {
     "data": {
      "text/html": [
       "<div>\n",
       "<style scoped>\n",
       "    .dataframe tbody tr th:only-of-type {\n",
       "        vertical-align: middle;\n",
       "    }\n",
       "\n",
       "    .dataframe tbody tr th {\n",
       "        vertical-align: top;\n",
       "    }\n",
       "\n",
       "    .dataframe thead th {\n",
       "        text-align: right;\n",
       "    }\n",
       "</style>\n",
       "<table border=\"1\" class=\"dataframe\">\n",
       "  <thead>\n",
       "    <tr style=\"text-align: right;\">\n",
       "      <th></th>\n",
       "      <th>EPS</th>\n",
       "      <th>Liquidity</th>\n",
       "      <th>Profitability</th>\n",
       "      <th>Productivity</th>\n",
       "      <th>Leverage Ratio</th>\n",
       "      <th>Asset Turnover</th>\n",
       "      <th>Operational Margin</th>\n",
       "      <th>Return on Equity</th>\n",
       "      <th>Market Book Ratio</th>\n",
       "      <th>Assets Growth</th>\n",
       "      <th>Sales Growth</th>\n",
       "      <th>Employee Growth</th>\n",
       "      <th>BK</th>\n",
       "    </tr>\n",
       "  </thead>\n",
       "  <tbody>\n",
       "    <tr>\n",
       "      <th>1</th>\n",
       "      <td>1.41</td>\n",
       "      <td>0.36</td>\n",
       "      <td>0.19</td>\n",
       "      <td>0.12</td>\n",
       "      <td>1.31</td>\n",
       "      <td>1.59</td>\n",
       "      <td>0.07</td>\n",
       "      <td>0.13</td>\n",
       "      <td>2.41</td>\n",
       "      <td>0.126</td>\n",
       "      <td>0.014</td>\n",
       "      <td>0.040</td>\n",
       "      <td>0</td>\n",
       "    </tr>\n",
       "    <tr>\n",
       "      <th>2</th>\n",
       "      <td>0.31</td>\n",
       "      <td>0.32</td>\n",
       "      <td>0.13</td>\n",
       "      <td>0.08</td>\n",
       "      <td>1.03</td>\n",
       "      <td>1.55</td>\n",
       "      <td>0.05</td>\n",
       "      <td>0.04</td>\n",
       "      <td>2.56</td>\n",
       "      <td>0.368</td>\n",
       "      <td>0.328</td>\n",
       "      <td>0.567</td>\n",
       "      <td>0</td>\n",
       "    </tr>\n",
       "    <tr>\n",
       "      <th>3</th>\n",
       "      <td>0.71</td>\n",
       "      <td>0.28</td>\n",
       "      <td>0.14</td>\n",
       "      <td>0.08</td>\n",
       "      <td>0.80</td>\n",
       "      <td>1.39</td>\n",
       "      <td>0.06</td>\n",
       "      <td>0.05</td>\n",
       "      <td>5.28</td>\n",
       "      <td>-0.021</td>\n",
       "      <td>-0.119</td>\n",
       "      <td>-0.096</td>\n",
       "      <td>0</td>\n",
       "    </tr>\n",
       "    <tr>\n",
       "      <th>4</th>\n",
       "      <td>0.75</td>\n",
       "      <td>0.41</td>\n",
       "      <td>0.13</td>\n",
       "      <td>0.08</td>\n",
       "      <td>0.20</td>\n",
       "      <td>1.30</td>\n",
       "      <td>0.06</td>\n",
       "      <td>0.04</td>\n",
       "      <td>8.68</td>\n",
       "      <td>0.233</td>\n",
       "      <td>0.147</td>\n",
       "      <td>0.053</td>\n",
       "      <td>0</td>\n",
       "    </tr>\n",
       "    <tr>\n",
       "      <th>5</th>\n",
       "      <td>1.50</td>\n",
       "      <td>0.37</td>\n",
       "      <td>0.16</td>\n",
       "      <td>0.11</td>\n",
       "      <td>0.34</td>\n",
       "      <td>1.41</td>\n",
       "      <td>0.08</td>\n",
       "      <td>0.08</td>\n",
       "      <td>7.82</td>\n",
       "      <td>0.132</td>\n",
       "      <td>0.232</td>\n",
       "      <td>0.077</td>\n",
       "      <td>0</td>\n",
       "    </tr>\n",
       "  </tbody>\n",
       "</table>\n",
       "</div>"
      ],
      "text/plain": [
       "    EPS  Liquidity  Profitability  Productivity  Leverage Ratio  \\\n",
       "1  1.41       0.36           0.19          0.12            1.31   \n",
       "2  0.31       0.32           0.13          0.08            1.03   \n",
       "3  0.71       0.28           0.14          0.08            0.80   \n",
       "4  0.75       0.41           0.13          0.08            0.20   \n",
       "5  1.50       0.37           0.16          0.11            0.34   \n",
       "\n",
       "   Asset Turnover  Operational Margin  Return on Equity  Market Book Ratio  \\\n",
       "1            1.59                0.07              0.13               2.41   \n",
       "2            1.55                0.05              0.04               2.56   \n",
       "3            1.39                0.06              0.05               5.28   \n",
       "4            1.30                0.06              0.04               8.68   \n",
       "5            1.41                0.08              0.08               7.82   \n",
       "\n",
       "   Assets Growth  Sales Growth  Employee Growth  BK  \n",
       "1          0.126         0.014            0.040   0  \n",
       "2          0.368         0.328            0.567   0  \n",
       "3         -0.021        -0.119           -0.096   0  \n",
       "4          0.233         0.147            0.053   0  \n",
       "5          0.132         0.232            0.077   0  "
      ]
     },
     "execution_count": 4,
     "metadata": {},
     "output_type": "execute_result"
    }
   ],
   "source": [
    "df = pd.read_csv(\"E:\\MMA - Smith\\Term 2\\MMA 823 - Analytics for Financial Markets\\Assignment 1\\Bankruptcy_data_Final.csv\")\n",
    "df.info()\n",
    "\n",
    "df = df.dropna()\n",
    "df.info()\n",
    "df.head()"
   ]
  },
  {
   "cell_type": "code",
   "execution_count": null,
   "id": "6e1c2a31",
   "metadata": {},
   "outputs": [],
   "source": []
  },
  {
   "cell_type": "code",
   "execution_count": 5,
   "id": "74e884fe",
   "metadata": {},
   "outputs": [],
   "source": [
    "from sklearn.model_selection import train_test_split\n",
    "\n",
    "# This dataset is huge, so let's take a sample to speed things up\n",
    "# df = df.sample(frac=0.5, replace=False, random_state=1, axis=0)\n",
    "X = df.drop(['BK'], axis=1)\n",
    "y = df['BK']\n",
    "X_train, X_test, y_train, y_test = train_test_split(X, y, test_size=0.2, stratify=y, random_state=44)"
   ]
  },
  {
   "cell_type": "code",
   "execution_count": 6,
   "id": "e87c1351",
   "metadata": {},
   "outputs": [
    {
     "data": {
      "text/plain": [
       "0    64585\n",
       "1      378\n",
       "Name: BK, dtype: int64"
      ]
     },
     "execution_count": 6,
     "metadata": {},
     "output_type": "execute_result"
    },
    {
     "data": {
      "text/plain": [
       "0    16146\n",
       "1       95\n",
       "Name: BK, dtype: int64"
      ]
     },
     "execution_count": 6,
     "metadata": {},
     "output_type": "execute_result"
    }
   ],
   "source": [
    "y_train.value_counts()\n",
    "y_test.value_counts()"
   ]
  },
  {
   "cell_type": "code",
   "execution_count": 7,
   "id": "eb7aba45",
   "metadata": {},
   "outputs": [],
   "source": [
    "from xgboost import XGBClassifier\n",
    "import sklearn.metrics as metrics\n",
    "from sklearn.metrics import f1_score\n",
    "from sklearn.metrics import accuracy_score\n",
    "from sklearn.metrics import confusion_matrix\n",
    "from sklearn.metrics import recall_score\n",
    "from sklearn.metrics import precision_score\n",
    "from sklearn.metrics import roc_auc_score\n",
    "from sklearn.tree import DecisionTreeClassifier\n",
    "from sklearn.ensemble import RandomForestClassifier\n",
    "from sklearn.model_selection import GridSearchCV\n",
    "from sklearn.metrics import confusion_matrix, accuracy_score, f1_score, recall_score, precision_score, roc_auc_score"
   ]
  },
  {
   "cell_type": "code",
   "execution_count": 8,
   "id": "2fd08ba6",
   "metadata": {},
   "outputs": [],
   "source": [
    "# Helper function\n",
    "def quick_evaluate_with_dt(X_train, X_test, y_train, y_test, name, balance_weights=False):\n",
    "    \n",
    "    cw = None\n",
    "    if balance_weights == True:\n",
    "        cw = 'balanced'\n",
    "        \n",
    "    clf = RandomForestClassifier(random_state=0, n_estimators=100, class_weight=cw)\n",
    "    \n",
    "    clf.fit(X_train, y_train)\n",
    "    y_pred = clf.predict(X_test)\n",
    "    \n",
    "    tn, fp, fn, tp = confusion_matrix(y_test, y_pred).ravel()\n",
    "    accuracy       = accuracy_score(y_test, y_pred)\n",
    "    f1             = f1_score(y_test, y_pred)\n",
    "    recall         = recall_score(y_test, y_pred)\n",
    "    precision      = precision_score(y_test, y_pred)\n",
    "    roc_auc        = roc_auc_score(y_test, y_pred)\n",
    "    \n",
    "    df = pd.DataFrame({\"Method\"    : [name],\n",
    "                       \"Neg\"       : [tn + fn],\n",
    "                       \"True Neg\"  : [tn],\n",
    "                       \"False Neg\" : [fn],\n",
    "                       \"Pos\"       : [tp + fp],\n",
    "                       \"TP\"        : [tp],\n",
    "                       \"FP\"        : [fp],\n",
    "                       \"Accuracy\"  : [accuracy],\n",
    "                       \"Recall\"    : [recall],\n",
    "                       \"Precision\" : [precision],\n",
    "                       \"F1\"        : [f1],\n",
    "                       \"AUC\"       : [roc_auc],\n",
    "                      })\n",
    "    \n",
    "    print(df)\n",
    "    return df"
   ]
  },
  {
   "cell_type": "code",
   "execution_count": 9,
   "id": "968ed9cb",
   "metadata": {},
   "outputs": [],
   "source": [
    "evals = list()"
   ]
  },
  {
   "cell_type": "code",
   "execution_count": 10,
   "id": "f0bd2589",
   "metadata": {},
   "outputs": [
    {
     "data": {
      "text/plain": [
       "(64963, 12)"
      ]
     },
     "execution_count": 10,
     "metadata": {},
     "output_type": "execute_result"
    },
    {
     "data": {
      "text/plain": [
       "(64963,)"
      ]
     },
     "execution_count": 10,
     "metadata": {},
     "output_type": "execute_result"
    },
    {
     "data": {
      "text/plain": [
       "array([64585,   378], dtype=int64)"
      ]
     },
     "execution_count": 10,
     "metadata": {},
     "output_type": "execute_result"
    },
    {
     "name": "stdout",
     "output_type": "stream",
     "text": [
      "  Method    Neg  True Neg  False Neg  Pos  TP  FP  Accuracy  Recall  \\\n",
      "0   None  16240     16145         95    1   0   1  0.994089     0.0   \n",
      "\n",
      "   Precision   F1       AUC  \n",
      "0        0.0  0.0  0.499969  \n"
     ]
    }
   ],
   "source": [
    "X_train.shape\n",
    "y_train.shape\n",
    "np.bincount(y_train)\n",
    "evals.append(quick_evaluate_with_dt(X_train, X_test, y_train, y_test, 'None'))"
   ]
  },
  {
   "cell_type": "code",
   "execution_count": 11,
   "id": "553dd817",
   "metadata": {},
   "outputs": [
    {
     "data": {
      "text/plain": [
       "(64963, 12)"
      ]
     },
     "execution_count": 11,
     "metadata": {},
     "output_type": "execute_result"
    },
    {
     "data": {
      "text/plain": [
       "(64963,)"
      ]
     },
     "execution_count": 11,
     "metadata": {},
     "output_type": "execute_result"
    },
    {
     "data": {
      "text/plain": [
       "array([64585,   378], dtype=int64)"
      ]
     },
     "execution_count": 11,
     "metadata": {},
     "output_type": "execute_result"
    },
    {
     "name": "stdout",
     "output_type": "stream",
     "text": [
      "          Method    Neg  True Neg  False Neg  Pos  TP  FP  Accuracy  Recall  \\\n",
      "0  Class Weights  16241     16146         95    0   0   0  0.994151     0.0   \n",
      "\n",
      "   Precision   F1  AUC  \n",
      "0        0.0  0.0  0.5  \n"
     ]
    },
    {
     "name": "stderr",
     "output_type": "stream",
     "text": [
      "C:\\Users\\irfan\\AppData\\Local\\R-MINI~1\\envs\\mma\\lib\\site-packages\\sklearn\\metrics\\_classification.py:1221: UndefinedMetricWarning: Precision is ill-defined and being set to 0.0 due to no predicted samples. Use `zero_division` parameter to control this behavior.\n",
      "  _warn_prf(average, modifier, msg_start, len(result))\n"
     ]
    }
   ],
   "source": [
    "X_train.shape\n",
    "y_train.shape\n",
    "np.bincount(y_train)\n",
    "\n",
    "evals.append(quick_evaluate_with_dt(X_train, X_test, y_train, y_test, 'Class Weights', balance_weights=True))"
   ]
  },
  {
   "cell_type": "code",
   "execution_count": 12,
   "id": "77fb91fe",
   "metadata": {},
   "outputs": [
    {
     "data": {
      "text/plain": [
       "(129170, 12)"
      ]
     },
     "execution_count": 12,
     "metadata": {},
     "output_type": "execute_result"
    },
    {
     "data": {
      "text/plain": [
       "(129170,)"
      ]
     },
     "execution_count": 12,
     "metadata": {},
     "output_type": "execute_result"
    },
    {
     "data": {
      "text/plain": [
       "array([64585, 64585], dtype=int64)"
      ]
     },
     "execution_count": 12,
     "metadata": {},
     "output_type": "execute_result"
    },
    {
     "name": "stdout",
     "output_type": "stream",
     "text": [
      "        Method    Neg  True Neg  False Neg  Pos  TP  FP  Accuracy    Recall  \\\n",
      "0  Over Random  16239     16145         94    2   1   1  0.994151  0.010526   \n",
      "\n",
      "   Precision        F1       AUC  \n",
      "0        0.5  0.020619  0.505232  \n"
     ]
    }
   ],
   "source": [
    "from imblearn.over_sampling import RandomOverSampler\n",
    "\n",
    "ros = RandomOverSampler(random_state=0)\n",
    "\n",
    "X_resampled, y_resampled = ros.fit_resample(X_train, y_train)\n",
    "X_resampled.shape\n",
    "y_resampled.shape\n",
    "np.bincount(y_resampled)\n",
    "\n",
    "evals.append(quick_evaluate_with_dt(X_resampled, X_test, y_resampled, y_test, 'Over Random'))"
   ]
  },
  {
   "cell_type": "code",
   "execution_count": 13,
   "id": "c31681db",
   "metadata": {},
   "outputs": [
    {
     "data": {
      "text/plain": [
       "(129170, 12)"
      ]
     },
     "execution_count": 13,
     "metadata": {},
     "output_type": "execute_result"
    },
    {
     "data": {
      "text/plain": [
       "(129170,)"
      ]
     },
     "execution_count": 13,
     "metadata": {},
     "output_type": "execute_result"
    },
    {
     "data": {
      "text/plain": [
       "array([64585, 64585], dtype=int64)"
      ]
     },
     "execution_count": 13,
     "metadata": {},
     "output_type": "execute_result"
    },
    {
     "name": "stdout",
     "output_type": "stream",
     "text": [
      "       Method    Neg  True Neg  False Neg  Pos  TP   FP  Accuracy    Recall  \\\n",
      "0  Over SMOTE  16007     15939         68  234  27  207  0.983068  0.284211   \n",
      "\n",
      "   Precision        F1       AUC  \n",
      "0   0.115385  0.164134  0.635695  \n"
     ]
    }
   ],
   "source": [
    "from imblearn.over_sampling import SMOTE\n",
    "\n",
    "X_resampled, y_resampled = SMOTE(random_state=0).fit_resample(X_train, y_train)\n",
    "\n",
    "X_resampled.shape\n",
    "y_resampled.shape\n",
    "np.bincount(y_resampled)\n",
    "\n",
    "evals.append(quick_evaluate_with_dt(X_resampled, X_test, y_resampled, y_test, 'Over SMOTE'))"
   ]
  },
  {
   "cell_type": "code",
   "execution_count": 14,
   "id": "79ebc182",
   "metadata": {},
   "outputs": [
    {
     "data": {
      "text/plain": [
       "(129151, 12)"
      ]
     },
     "execution_count": 14,
     "metadata": {},
     "output_type": "execute_result"
    },
    {
     "data": {
      "text/plain": [
       "(129151,)"
      ]
     },
     "execution_count": 14,
     "metadata": {},
     "output_type": "execute_result"
    },
    {
     "data": {
      "text/plain": [
       "array([64585, 64566], dtype=int64)"
      ]
     },
     "execution_count": 14,
     "metadata": {},
     "output_type": "execute_result"
    },
    {
     "name": "stdout",
     "output_type": "stream",
     "text": [
      "        Method    Neg  True Neg  False Neg  Pos  TP   FP  Accuracy    Recall  \\\n",
      "0  Over ADASYN  16015     15949         66  226  29  197  0.983806  0.305263   \n",
      "\n",
      "   Precision        F1       AUC  \n",
      "0   0.128319  0.180685  0.646531  \n"
     ]
    }
   ],
   "source": [
    "from imblearn.over_sampling import ADASYN\n",
    "\n",
    "X_resampled, y_resampled = ADASYN(random_state=0).fit_resample(X_train, y_train)\n",
    "\n",
    "X_resampled.shape\n",
    "y_resampled.shape\n",
    "np.bincount(y_resampled)\n",
    "\n",
    "evals.append(quick_evaluate_with_dt(X_resampled, X_test, y_resampled, y_test,  'Over ADASYN'))"
   ]
  },
  {
   "cell_type": "code",
   "execution_count": 15,
   "id": "a8fc1a17",
   "metadata": {},
   "outputs": [
    {
     "data": {
      "text/plain": [
       "(756, 12)"
      ]
     },
     "execution_count": 15,
     "metadata": {},
     "output_type": "execute_result"
    },
    {
     "data": {
      "text/plain": [
       "(756,)"
      ]
     },
     "execution_count": 15,
     "metadata": {},
     "output_type": "execute_result"
    },
    {
     "data": {
      "text/plain": [
       "array([378, 378], dtype=int64)"
      ]
     },
     "execution_count": 15,
     "metadata": {},
     "output_type": "execute_result"
    },
    {
     "name": "stdout",
     "output_type": "stream",
     "text": [
      "         Method    Neg  True Neg  False Neg   Pos  TP    FP  Accuracy  \\\n",
      "0  Under Sample  13719     13704         15  2522  80  2442  0.848716   \n",
      "\n",
      "     Recall  Precision        F1      AUC  \n",
      "0  0.842105   0.031721  0.061139  0.84543  \n"
     ]
    }
   ],
   "source": [
    "from imblearn.under_sampling import RandomUnderSampler\n",
    "\n",
    "rus = RandomUnderSampler(random_state=0)\n",
    "X_resampled, y_resampled = rus.fit_resample(X_train, y_train)\n",
    "\n",
    "X_resampled.shape\n",
    "y_resampled.shape\n",
    "np.bincount(y_resampled)\n",
    "\n",
    "evals.append(quick_evaluate_with_dt(X_resampled, X_test, y_resampled, y_test,  'Under Sample'))"
   ]
  },
  {
   "cell_type": "code",
   "execution_count": 16,
   "id": "d61c7810",
   "metadata": {},
   "outputs": [
    {
     "data": {
      "text/plain": [
       "0    16146\n",
       "1       95\n",
       "Name: BK, dtype: int64"
      ]
     },
     "execution_count": 16,
     "metadata": {},
     "output_type": "execute_result"
    },
    {
     "data": {
      "text/html": [
       "<div>\n",
       "<style scoped>\n",
       "    .dataframe tbody tr th:only-of-type {\n",
       "        vertical-align: middle;\n",
       "    }\n",
       "\n",
       "    .dataframe tbody tr th {\n",
       "        vertical-align: top;\n",
       "    }\n",
       "\n",
       "    .dataframe thead th {\n",
       "        text-align: right;\n",
       "    }\n",
       "</style>\n",
       "<table border=\"1\" class=\"dataframe\">\n",
       "  <thead>\n",
       "    <tr style=\"text-align: right;\">\n",
       "      <th></th>\n",
       "      <th>Method</th>\n",
       "      <th>Neg</th>\n",
       "      <th>True Neg</th>\n",
       "      <th>False Neg</th>\n",
       "      <th>Pos</th>\n",
       "      <th>TP</th>\n",
       "      <th>FP</th>\n",
       "      <th>Accuracy</th>\n",
       "      <th>Recall</th>\n",
       "      <th>Precision</th>\n",
       "      <th>F1</th>\n",
       "      <th>AUC</th>\n",
       "    </tr>\n",
       "  </thead>\n",
       "  <tbody>\n",
       "    <tr>\n",
       "      <th>4</th>\n",
       "      <td>Over ADASYN</td>\n",
       "      <td>16015</td>\n",
       "      <td>15949</td>\n",
       "      <td>66</td>\n",
       "      <td>226</td>\n",
       "      <td>29</td>\n",
       "      <td>197</td>\n",
       "      <td>0.983806</td>\n",
       "      <td>0.305263</td>\n",
       "      <td>0.128319</td>\n",
       "      <td>0.180685</td>\n",
       "      <td>0.646531</td>\n",
       "    </tr>\n",
       "    <tr>\n",
       "      <th>3</th>\n",
       "      <td>Over SMOTE</td>\n",
       "      <td>16007</td>\n",
       "      <td>15939</td>\n",
       "      <td>68</td>\n",
       "      <td>234</td>\n",
       "      <td>27</td>\n",
       "      <td>207</td>\n",
       "      <td>0.983068</td>\n",
       "      <td>0.284211</td>\n",
       "      <td>0.115385</td>\n",
       "      <td>0.164134</td>\n",
       "      <td>0.635695</td>\n",
       "    </tr>\n",
       "    <tr>\n",
       "      <th>5</th>\n",
       "      <td>Under Sample</td>\n",
       "      <td>13719</td>\n",
       "      <td>13704</td>\n",
       "      <td>15</td>\n",
       "      <td>2522</td>\n",
       "      <td>80</td>\n",
       "      <td>2442</td>\n",
       "      <td>0.848716</td>\n",
       "      <td>0.842105</td>\n",
       "      <td>0.031721</td>\n",
       "      <td>0.061139</td>\n",
       "      <td>0.845430</td>\n",
       "    </tr>\n",
       "    <tr>\n",
       "      <th>2</th>\n",
       "      <td>Over Random</td>\n",
       "      <td>16239</td>\n",
       "      <td>16145</td>\n",
       "      <td>94</td>\n",
       "      <td>2</td>\n",
       "      <td>1</td>\n",
       "      <td>1</td>\n",
       "      <td>0.994151</td>\n",
       "      <td>0.010526</td>\n",
       "      <td>0.500000</td>\n",
       "      <td>0.020619</td>\n",
       "      <td>0.505232</td>\n",
       "    </tr>\n",
       "    <tr>\n",
       "      <th>0</th>\n",
       "      <td>None</td>\n",
       "      <td>16240</td>\n",
       "      <td>16145</td>\n",
       "      <td>95</td>\n",
       "      <td>1</td>\n",
       "      <td>0</td>\n",
       "      <td>1</td>\n",
       "      <td>0.994089</td>\n",
       "      <td>0.000000</td>\n",
       "      <td>0.000000</td>\n",
       "      <td>0.000000</td>\n",
       "      <td>0.499969</td>\n",
       "    </tr>\n",
       "    <tr>\n",
       "      <th>1</th>\n",
       "      <td>Class Weights</td>\n",
       "      <td>16241</td>\n",
       "      <td>16146</td>\n",
       "      <td>95</td>\n",
       "      <td>0</td>\n",
       "      <td>0</td>\n",
       "      <td>0</td>\n",
       "      <td>0.994151</td>\n",
       "      <td>0.000000</td>\n",
       "      <td>0.000000</td>\n",
       "      <td>0.000000</td>\n",
       "      <td>0.500000</td>\n",
       "    </tr>\n",
       "  </tbody>\n",
       "</table>\n",
       "</div>"
      ],
      "text/plain": [
       "          Method    Neg  True Neg  False Neg   Pos  TP    FP  Accuracy  \\\n",
       "4    Over ADASYN  16015     15949         66   226  29   197  0.983806   \n",
       "3     Over SMOTE  16007     15939         68   234  27   207  0.983068   \n",
       "5   Under Sample  13719     13704         15  2522  80  2442  0.848716   \n",
       "2    Over Random  16239     16145         94     2   1     1  0.994151   \n",
       "0           None  16240     16145         95     1   0     1  0.994089   \n",
       "1  Class Weights  16241     16146         95     0   0     0  0.994151   \n",
       "\n",
       "     Recall  Precision        F1       AUC  \n",
       "4  0.305263   0.128319  0.180685  0.646531  \n",
       "3  0.284211   0.115385  0.164134  0.635695  \n",
       "5  0.842105   0.031721  0.061139  0.845430  \n",
       "2  0.010526   0.500000  0.020619  0.505232  \n",
       "0  0.000000   0.000000  0.000000  0.499969  \n",
       "1  0.000000   0.000000  0.000000  0.500000  "
      ]
     },
     "execution_count": 16,
     "metadata": {},
     "output_type": "execute_result"
    }
   ],
   "source": [
    "# Recall the actual distrition of the truth labels of the testing set.\n",
    "y_test.value_counts()\n",
    "\n",
    "evals_all = pd.concat([m for m in evals], axis = 0).reset_index()\n",
    "\n",
    "evals_all = evals_all.drop(columns = \"index\",axis =1)\n",
    "evals_all.sort_values(by=['F1'], ascending=False)"
   ]
  },
  {
   "cell_type": "code",
   "execution_count": 17,
   "id": "b50131d1",
   "metadata": {},
   "outputs": [
    {
     "ename": "NameError",
     "evalue": "name 'clf' is not defined",
     "output_type": "error",
     "traceback": [
      "\u001b[1;31m---------------------------------------------------------------------------\u001b[0m",
      "\u001b[1;31mNameError\u001b[0m                                 Traceback (most recent call last)",
      "\u001b[1;32m~\\AppData\\Local\\Temp/ipykernel_18052/2716511010.py\u001b[0m in \u001b[0;36m<module>\u001b[1;34m\u001b[0m\n\u001b[1;32m----> 1\u001b[1;33m \u001b[0mprint\u001b[0m\u001b[1;33m(\u001b[0m\u001b[0mf1_score\u001b[0m\u001b[1;33m(\u001b[0m\u001b[0my_test\u001b[0m\u001b[1;33m,\u001b[0m\u001b[0mclf\u001b[0m\u001b[1;33m.\u001b[0m\u001b[0mpredict\u001b[0m\u001b[1;33m(\u001b[0m\u001b[0mX_test\u001b[0m\u001b[1;33m)\u001b[0m\u001b[1;33m)\u001b[0m\u001b[1;33m)\u001b[0m\u001b[1;33m\u001b[0m\u001b[1;33m\u001b[0m\u001b[0m\n\u001b[0m\u001b[0;32m      2\u001b[0m \u001b[0mprint\u001b[0m\u001b[1;33m(\u001b[0m\u001b[0maccuracy_score\u001b[0m\u001b[1;33m(\u001b[0m\u001b[0my_test\u001b[0m\u001b[1;33m,\u001b[0m\u001b[0mxgb\u001b[0m\u001b[1;33m.\u001b[0m\u001b[0mpredict\u001b[0m\u001b[1;33m(\u001b[0m\u001b[0mX_test\u001b[0m\u001b[1;33m)\u001b[0m\u001b[1;33m)\u001b[0m\u001b[1;33m)\u001b[0m\u001b[1;33m\u001b[0m\u001b[1;33m\u001b[0m\u001b[0m\n",
      "\u001b[1;31mNameError\u001b[0m: name 'clf' is not defined"
     ]
    }
   ],
   "source": [
    "print(f1_score(y_test,clf.predict(X_test)))\n",
    "print(accuracy_score(y_test,xgb.predict(X_test)))"
   ]
  },
  {
   "cell_type": "code",
   "execution_count": null,
   "id": "051764f9",
   "metadata": {},
   "outputs": [],
   "source": [
    "plt.figure(figsize=(16, 10));\n",
    "plt.grid(True);\n",
    "\n",
    "ind_d = y==1\n",
    "ind_p = y==0\n",
    "\n",
    "plt.scatter(X[ind_p], X[ind_p], marker='o', s=200, label=\"Did not bankcrupt\", alpha=0.8);\n",
    "plt.scatter(X[ind_d], X[ind_d], marker='o', s=200, label='Bankcrupted');\n",
    "\n",
    "plt.legend(fontsize=16);\n",
    "plt.title(\"Bank Dataset\", fontsize=20);\n",
    "plt.xlabel('Leverage Ratio', fontsize=22);\n",
    "plt.ylabel('Operational Margin', fontsize=22);\n",
    "plt.xticks(fontsize=18);\n",
    "plt.yticks(fontsize=18);\n",
    "plt.tight_layout();\n",
    "#plt.savefig('out/default-data.png');"
   ]
  },
  {
   "cell_type": "code",
   "execution_count": null,
   "id": "f37180b6",
   "metadata": {},
   "outputs": [],
   "source": []
  },
  {
   "cell_type": "code",
   "execution_count": null,
   "id": "e8deffdf",
   "metadata": {},
   "outputs": [],
   "source": []
  }
 ],
 "metadata": {
  "kernelspec": {
   "display_name": "mma",
   "language": "python",
   "name": "mma"
  },
  "language_info": {
   "codemirror_mode": {
    "name": "ipython",
    "version": 3
   },
   "file_extension": ".py",
   "mimetype": "text/x-python",
   "name": "python",
   "nbconvert_exporter": "python",
   "pygments_lexer": "ipython3",
   "version": "3.8.11"
  }
 },
 "nbformat": 4,
 "nbformat_minor": 5
}
